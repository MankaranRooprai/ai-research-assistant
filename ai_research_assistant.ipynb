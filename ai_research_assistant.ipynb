{
 "cells": [
  {
   "cell_type": "code",
   "execution_count": 25,
   "metadata": {},
   "outputs": [],
   "source": [
    "import os\n",
    "import requests\n",
    "from sentence_transformers import SentenceTransformer\n",
    "from transformers import AutoTokenizer, AutoModelForCausalLM\n",
    "import numpy as np\n",
    "import faiss"
   ]
  },
  {
   "cell_type": "code",
   "execution_count": 26,
   "metadata": {},
   "outputs": [],
   "source": [
    "# Set the Hugging Face authentication token\n",
    "os.environ[\"HF_AUTH_TOKEN\"] = \"Hugging Face API Token\"  # Replace with your token\n",
    "os.environ[\"HF_HUB_DISABLE_SYMLINKS_WARNING\"] = \"true\"\n",
    "\n",
    "# News API key (Replace with your API key from https://newsapi.org/)\n",
    "news_api_key = \"News API Token\""
   ]
  },
  {
   "cell_type": "code",
   "execution_count": 27,
   "metadata": {},
   "outputs": [],
   "source": [
    "# Function to get news articles related to AI in Healthcare\n",
    "def get_articles_from_newsapi(query, api_key, page_size=5):\n",
    "    url = f\"https://newsapi.org/v2/everything?q={query}&apiKey={api_key}&pageSize={page_size}\"\n",
    "    response = requests.get(url)\n",
    "    data = response.json()\n",
    "    articles = data.get('articles', [])\n",
    "    if not articles:\n",
    "        print(\"No articles found.\")\n",
    "    documents = [article['title'] + \": \" + article['description'] for article in articles]\n",
    "    return documents"
   ]
  },
  {
   "cell_type": "code",
   "execution_count": 28,
   "metadata": {},
   "outputs": [],
   "source": [
    "# Fetch AI healthcare articles\n",
    "query = \"AI in healthcare\"\n",
    "documents = get_articles_from_newsapi(query, news_api_key)\n",
    "\n",
    "if not documents:\n",
    "    print(\"Error: No documents fetched. Exiting.\")\n",
    "    exit()"
   ]
  },
  {
   "cell_type": "code",
   "execution_count": 29,
   "metadata": {},
   "outputs": [
    {
     "data": {
      "text/plain": [
       "['Doctors Say AI Is Introducing Slop Into Patient Care: Early testing demonstrates results that could be disastrous for patients.',\n",
       " \"VC's healthcare predictions for 2025: more M&A, fierce competition in AI, and a health insurance shake-up under Trump: 13 investors share what they expect to see in healthcare in 2025, from a pickup in healthcare M&A to boosts for Medicare Advantage startups.\",\n",
       " 'Meet 45 rising stars of the venture capital industry who stood out in 2024: Meet the top emerging venture capitalists of 2024, spotlighting key VCs from diverse backgrounds and sectors, including AI, healthcare, and fintech.',\n",
       " \"Jimini Health is using AI for better mental healthcare. See the 22-slide pitch deck that helped it raise $8 million.: Jimini Health raised $8 million in pre-seed funding to combine AI-assisted mental healthcare with talk therapy. Here's the pitch deck it used.\",\n",
       " 'The Most Dangerous People on the Internet in 2024: From Elon Musk and Donald Trump to state-sponsored hackers and crypto scammers, this was the year the online agents of chaos gained ground.']"
      ]
     },
     "execution_count": 29,
     "metadata": {},
     "output_type": "execute_result"
    }
   ],
   "source": [
    "documents"
   ]
  },
  {
   "cell_type": "code",
   "execution_count": 30,
   "metadata": {},
   "outputs": [],
   "source": [
    "# Initialize models\n",
    "sentence_model = SentenceTransformer('all-mpnet-base-v2')  # Sentence model for encoding text\n",
    "tokenizer = AutoTokenizer.from_pretrained(\"EleutherAI/gpt-neo-2.7B\")\n",
    "language_model = AutoModelForCausalLM.from_pretrained(\"EleutherAI/gpt-neo-2.7B\")"
   ]
  },
  {
   "cell_type": "code",
   "execution_count": 31,
   "metadata": {},
   "outputs": [],
   "source": [
    "# Create embeddings for documents using the sentence transformer model\n",
    "embeddings = sentence_model.encode(documents, convert_to_tensor=False)"
   ]
  },
  {
   "cell_type": "code",
   "execution_count": 32,
   "metadata": {},
   "outputs": [],
   "source": [
    "# Create FAISS index\n",
    "dimension = embeddings.shape[1]  # Embedding size\n",
    "index = faiss.IndexFlatL2(dimension)  # L2 distance for similarity\n",
    "index.add(np.array(embeddings).astype(np.float32))  # Add embeddings to FAISS index"
   ]
  },
  {
   "cell_type": "code",
   "execution_count": 33,
   "metadata": {},
   "outputs": [],
   "source": [
    "# Encode query into embedding\n",
    "query_embedding = sentence_model.encode([query])"
   ]
  },
  {
   "cell_type": "code",
   "execution_count": 34,
   "metadata": {},
   "outputs": [],
   "source": [
    "# Perform similarity search in FAISS index\n",
    "top_k = 3  # Number of relevant documents to retrieve\n",
    "distances, indices = index.search(np.array(query_embedding).astype(np.float32), top_k)"
   ]
  },
  {
   "cell_type": "code",
   "execution_count": 35,
   "metadata": {},
   "outputs": [],
   "source": [
    "# Retrieve the most relevant documents based on FAISS search\n",
    "relevant_docs = [documents[i] for i in indices[0]]\n",
    "\n",
    "# Combine relevant documents as context for the language model\n",
    "context = \" \".join(relevant_docs)"
   ]
  },
  {
   "cell_type": "code",
   "execution_count": 36,
   "metadata": {},
   "outputs": [
    {
     "data": {
      "text/plain": [
       "\"Doctors Say AI Is Introducing Slop Into Patient Care: Early testing demonstrates results that could be disastrous for patients. Jimini Health is using AI for better mental healthcare. See the 22-slide pitch deck that helped it raise $8 million.: Jimini Health raised $8 million in pre-seed funding to combine AI-assisted mental healthcare with talk therapy. Here's the pitch deck it used. VC's healthcare predictions for 2025: more M&A, fierce competition in AI, and a health insurance shake-up under Trump: 13 investors share what they expect to see in healthcare in 2025, from a pickup in healthcare M&A to boosts for Medicare Advantage startups.\""
      ]
     },
     "execution_count": 36,
     "metadata": {},
     "output_type": "execute_result"
    }
   ],
   "source": [
    "context"
   ]
  },
  {
   "cell_type": "code",
   "execution_count": 37,
   "metadata": {},
   "outputs": [],
   "source": [
    "# Define the prompt with the query and context\n",
    "prompt = f\"Generate a comprehensive research paper on the topic: {query}. Focus on the applications, challenges, and future potential of AI in healthcare. Write an introduction, body, and conclusion, based on the following articles: {context}. The content should be detailed and coherent but not exceed 500 words.\"\n",
    "\n",
    "# Tokenize the input\n",
    "inputs = tokenizer(prompt, return_tensors=\"pt\", max_length=512, truncation=True)"
   ]
  },
  {
   "cell_type": "code",
   "execution_count": 38,
   "metadata": {},
   "outputs": [],
   "source": [
    "# Generate a response with the language model\n",
    "output = language_model.generate(\n",
    "    **inputs,\n",
    "    max_length=500,  # Maximum length of generated text\n",
    "    pad_token_id=tokenizer.eos_token_id,\n",
    "    temperature=0.7,  # Control the randomness (lower = more deterministic)\n",
    "    top_p=0.9,        # Nucleus sampling (top probability)\n",
    "    top_k=50,         # Top-K sampling (limit top-k candidates)\n",
    "    no_repeat_ngram_size=2,  # Avoid repeating n-grams\n",
    ")"
   ]
  },
  {
   "cell_type": "code",
   "execution_count": 39,
   "metadata": {},
   "outputs": [
    {
     "name": "stdout",
     "output_type": "stream",
     "text": [
      "Generate a comprehensive research paper on the topic: AI in healthcare. Focus on the applications, challenges, and future potential of AI in healthcare. Write an introduction, body, and conclusion, based on the following articles: Doctors Say AI Is Introducing Slop Into Patient Care: Early testing demonstrates results that could be disastrous for patients. Jimini Health is using AI for better mental healthcare. See the 22-slide pitch deck that helped it raise $8 million.: Jimini Health raised $8 million in pre-seed funding to combine AI-assisted mental healthcare with talk therapy. Here's the pitch deck it used. VC's healthcare predictions for 2025: more M&A, fierce competition in AI, and a health insurance shake-up under Trump: 13 investors share what they expect to see in healthcare in 2025, from a pickup in healthcare M&A to boosts for Medicare Advantage startups.. The content should be detailed and coherent but not exceed 500 words. The paper should include a clear thesis statement, a list of references, an abstract, the main points of the paper, as well as a conclusion.\n",
      "\n",
      "The paper must be written in English. It should not be a translation of a paper from another language. You can use the template below to write your paper. Please use this template to prepare your research proposal. If you have any questions, please contact us.\n",
      "\n",
      "\n",
      "1. Introduction\n",
      "2. Background\n",
      "3. Research Questions\n",
      "4. Literature Review\n",
      "5. Methodology\n",
      "6. Results\n",
      "7. Discussion\n",
      "8. Conclusions\n",
      "9. References\n",
      "10. Sample Paper\n",
      "11. Contact Us\n",
      "12. About Us\n",
      "\n",
      "\n",
      "\n",
      "\n"
     ]
    }
   ],
   "source": [
    "# Decode and print the generated text\n",
    "generated_text = tokenizer.decode(output[0], skip_special_tokens=True)\n",
    "print(generated_text)"
   ]
  }
 ],
 "metadata": {
  "kernelspec": {
   "display_name": "ai_project_env",
   "language": "python",
   "name": "python3"
  },
  "language_info": {
   "codemirror_mode": {
    "name": "ipython",
    "version": 3
   },
   "file_extension": ".py",
   "mimetype": "text/x-python",
   "name": "python",
   "nbconvert_exporter": "python",
   "pygments_lexer": "ipython3",
   "version": "3.8.5"
  }
 },
 "nbformat": 4,
 "nbformat_minor": 2
}
